{
  "nbformat": 4,
  "nbformat_minor": 0,
  "metadata": {
    "colab": {
      "provenance": [],
      "authorship_tag": "ABX9TyPsS35BN6OPzx/G8NB/BoGp",
      "include_colab_link": true
    },
    "kernelspec": {
      "name": "python3",
      "display_name": "Python 3"
    },
    "language_info": {
      "name": "python"
    },
    "accelerator": "GPU",
    "gpuClass": "standard"
  },
  "cells": [
    {
      "cell_type": "markdown",
      "metadata": {
        "id": "view-in-github",
        "colab_type": "text"
      },
      "source": [
        "<a href=\"https://colab.research.google.com/github/20WH1A6637/NLP_Lab/blob/main/RegularExpressions.ipynb\" target=\"_parent\"><img src=\"https://colab.research.google.com/assets/colab-badge.svg\" alt=\"Open In Colab\"/></a>"
      ]
    },
    {
      "cell_type": "code",
      "execution_count": 1,
      "metadata": {
        "id": "jq3murZjulXC"
      },
      "outputs": [],
      "source": [
        "import re"
      ]
    },
    {
      "cell_type": "code",
      "source": [
        "txt = \"The rain in Spain\""
      ],
      "metadata": {
        "id": "a4RuVt_oum_4"
      },
      "execution_count": 22,
      "outputs": []
    },
    {
      "cell_type": "code",
      "source": [
        "x = re.findall(\"ai\", txt)\n",
        "print(x)"
      ],
      "metadata": {
        "colab": {
          "base_uri": "https://localhost:8080/"
        },
        "id": "nOABrH7_u5iZ",
        "outputId": "a094cd6c-5ab6-404c-8682-82069b305df5"
      },
      "execution_count": 32,
      "outputs": [
        {
          "output_type": "stream",
          "name": "stdout",
          "text": [
            "['ai', 'ai']\n"
          ]
        }
      ]
    },
    {
      "cell_type": "code",
      "source": [
        "re.findall(\"i\", txt)"
      ],
      "metadata": {
        "colab": {
          "base_uri": "https://localhost:8080/"
        },
        "id": "_myn3kIIvEar",
        "outputId": "fdaf9bbf-5068-44e2-d8da-4c8d3030f117"
      },
      "execution_count": 31,
      "outputs": [
        {
          "output_type": "execute_result",
          "data": {
            "text/plain": [
              "['i', 'i', 'i']"
            ]
          },
          "metadata": {},
          "execution_count": 31
        }
      ]
    },
    {
      "cell_type": "code",
      "source": [
        "y = re.search(\"\\s\", txt)\n",
        "print(y.start())"
      ],
      "metadata": {
        "colab": {
          "base_uri": "https://localhost:8080/"
        },
        "id": "KYEueFWnvszi",
        "outputId": "7dcdaeaa-bcb5-454a-c969-59cbe3f824f1"
      },
      "execution_count": 25,
      "outputs": [
        {
          "output_type": "stream",
          "name": "stdout",
          "text": [
            "3\n"
          ]
        }
      ]
    },
    {
      "cell_type": "code",
      "source": [
        "y = re.search(\"ai\", txt)\n",
        "print(y.start())"
      ],
      "metadata": {
        "colab": {
          "base_uri": "https://localhost:8080/"
        },
        "id": "rtURps34yh7S",
        "outputId": "081bac50-af33-4a1b-c5b0-3b6dfa471743"
      },
      "execution_count": 35,
      "outputs": [
        {
          "output_type": "stream",
          "name": "stdout",
          "text": [
            "5\n"
          ]
        }
      ]
    },
    {
      "cell_type": "code",
      "source": [
        "z = re.split(\" \", txt)\n",
        "print(z)"
      ],
      "metadata": {
        "colab": {
          "base_uri": "https://localhost:8080/"
        },
        "id": "yN8nEN54xVT9",
        "outputId": "716cf713-b154-45de-d95b-a4b714594165"
      },
      "execution_count": 27,
      "outputs": [
        {
          "output_type": "stream",
          "name": "stdout",
          "text": [
            "['The', 'rain', 'in', 'Spain']\n"
          ]
        }
      ]
    },
    {
      "cell_type": "code",
      "source": [
        "re.sub(\"\\s\", \"***\", txt)"
      ],
      "metadata": {
        "colab": {
          "base_uri": "https://localhost:8080/",
          "height": 35
        },
        "id": "6THM1tFZxhd8",
        "outputId": "df49f8d2-8489-450c-fb3a-2a486347deca"
      },
      "execution_count": 29,
      "outputs": [
        {
          "output_type": "execute_result",
          "data": {
            "text/plain": [
              "'The***rain***in***Spain'"
            ],
            "application/vnd.google.colaboratory.intrinsic+json": {
              "type": "string"
            }
          },
          "metadata": {},
          "execution_count": 29
        }
      ]
    },
    {
      "cell_type": "code",
      "source": [
        "'''\n",
        "span returns a tuple that contains the start and end of the match\n",
        "string return the string passed to the function\n",
        "group returns the part of the string where there was a match'''\n",
        "x = re.search(r\"\\bS\\w+\", txt)\n",
        "print(x.span())\n",
        "print(x.string)\n",
        "print(x.group())"
      ],
      "metadata": {
        "colab": {
          "base_uri": "https://localhost:8080/"
        },
        "id": "ZuQEW5AhyZly",
        "outputId": "eadb8e40-583c-479c-e6b1-3c7768cca0d0"
      },
      "execution_count": 48,
      "outputs": [
        {
          "output_type": "stream",
          "name": "stdout",
          "text": [
            "(12, 17)\n",
            "The rain in Spain\n",
            "Spain\n"
          ]
        }
      ]
    },
    {
      "cell_type": "code",
      "source": [
        "import nltk\n",
        "nltk.download(\"wordnet\")\n",
        "from nltk.tokenize import TweetTokenizer"
      ],
      "metadata": {
        "colab": {
          "base_uri": "https://localhost:8080/"
        },
        "id": "ezQhJFwQzgAH",
        "outputId": "532c31a6-61a0-41dc-851a-a753c46d21cc"
      },
      "execution_count": 50,
      "outputs": [
        {
          "output_type": "stream",
          "name": "stderr",
          "text": [
            "[nltk_data] Downloading package wordnet to /root/nltk_data...\n"
          ]
        }
      ]
    },
    {
      "cell_type": "code",
      "source": [
        "tknzr = TweetTokenizer()"
      ],
      "metadata": {
        "id": "bvdKY5ZB0zrM"
      },
      "execution_count": 51,
      "outputs": []
    },
    {
      "cell_type": "code",
      "source": [
        "s0 = \"This is not cool\""
      ],
      "metadata": {
        "id": "WiUN6qhQ32n_"
      },
      "execution_count": 52,
      "outputs": []
    },
    {
      "cell_type": "code",
      "source": [
        "s1 = \"This is not cool\""
      ],
      "metadata": {
        "id": "zQa7J9_536Me"
      },
      "execution_count": 53,
      "outputs": []
    },
    {
      "cell_type": "code",
      "source": [
        "tknzr.tokenize(s1)"
      ],
      "metadata": {
        "colab": {
          "base_uri": "https://localhost:8080/"
        },
        "id": "araq3GQa37bN",
        "outputId": "68c4de87-fb9b-4af2-8f6f-ac21a7028ad0"
      },
      "execution_count": 54,
      "outputs": [
        {
          "output_type": "execute_result",
          "data": {
            "text/plain": [
              "['This', 'is', 'not', 'cool']"
            ]
          },
          "metadata": {},
          "execution_count": 54
        }
      ]
    },
    {
      "cell_type": "code",
      "source": [
        "from nltk.corpus import stopwords\n",
        "from nltk.tokenize import word_tokenize\n",
        "import nltk\n",
        "nltk.download(\"stopwords\")"
      ],
      "metadata": {
        "colab": {
          "base_uri": "https://localhost:8080/"
        },
        "id": "uwbHR5BD3-wr",
        "outputId": "78cffb63-777a-4790-cad6-d6be3c8e93f3"
      },
      "execution_count": 57,
      "outputs": [
        {
          "output_type": "stream",
          "name": "stderr",
          "text": [
            "[nltk_data] Downloading package stopwords to /root/nltk_data...\n",
            "[nltk_data]   Unzipping corpora/stopwords.zip.\n"
          ]
        },
        {
          "output_type": "execute_result",
          "data": {
            "text/plain": [
              "True"
            ]
          },
          "metadata": {},
          "execution_count": 57
        }
      ]
    },
    {
      "cell_type": "code",
      "source": [
        "stop_words = set(stopwords.words(\"english\"))\n",
        "print(stop_words)"
      ],
      "metadata": {
        "colab": {
          "base_uri": "https://localhost:8080/"
        },
        "id": "cyh1n0d06lSi",
        "outputId": "0348bcb9-2a98-4b81-d22e-8f193385001c"
      },
      "execution_count": 58,
      "outputs": [
        {
          "output_type": "stream",
          "name": "stdout",
          "text": [
            "{'than', 'just', 'other', 'do', 'while', 'my', 'are', 'hers', 'once', 'been', 'myself', 'who', 'the', 'with', 'having', 'its', \"you're\", 'after', 'mustn', 'over', 'or', 'these', 'whom', 'off', 'few', \"should've\", \"wouldn't\", \"won't\", 'those', \"hasn't\", 'now', 'each', 'won', 'such', 'but', 'i', 'her', 'has', 'doing', 'doesn', 'how', \"that'll\", 'theirs', 'until', \"shan't\", 'not', 'then', 'were', \"doesn't\", 'hasn', \"shouldn't\", 'shouldn', 'ours', 'be', 'on', 'where', 'will', \"mightn't\", 'haven', 'under', 'it', 'above', 'there', 'hadn', \"mustn't\", 'of', 'most', 'a', 'through', 'very', 'm', 'what', \"you'll\", 'same', 'that', 'no', 'their', 'didn', 'more', 'wasn', \"didn't\", 'by', 'yourself', 'd', 't', 'and', 'yours', 'into', 'does', 'our', 'why', 'yourselves', \"you've\", 'as', \"don't\", 'further', \"aren't\", 'from', 'aren', \"weren't\", 'themselves', 'herself', 'am', 'me', \"haven't\", 'mightn', 'can', 'when', 'nor', 'wouldn', 'before', 'should', 'only', 'which', 'was', 'during', \"couldn't\", 'himself', 'have', 'ma', 'to', 's', 'ourselves', 'both', 'don', \"you'd\", 'we', 'is', 'between', 'out', 'because', 'down', 'your', 'any', 'his', 'so', 'this', 'an', 'below', 'if', \"it's\", 'them', 'too', \"hadn't\", 'here', 'o', \"isn't\", 'at', 'you', 'ain', \"wasn't\", 'll', 'had', 'isn', 'needn', 'about', 'weren', 'up', 'own', \"needn't\", 'couldn', 'against', 'did', 'for', 'all', 'him', \"she's\", 'shan', 'they', 're', 'he', 'again', 'some', 've', 'y', 'itself', 'in', 'she', 'being'}\n"
          ]
        }
      ]
    },
    {
      "cell_type": "code",
      "source": [
        "filtered_sentence = [w for w in tknzr.tokenize(s0) if not w in stop_words]\n",
        "filtered_sentence = []"
      ],
      "metadata": {
        "id": "Wed_ZL1w6u4P"
      },
      "execution_count": 59,
      "outputs": []
    },
    {
      "cell_type": "code",
      "source": [
        "for w in tknzr.tokenize(s0):\n",
        "  if w not in stop_words:\n",
        "    filtered_sentence.append(w)"
      ],
      "metadata": {
        "id": "KpCNLCXq7FA9"
      },
      "execution_count": 60,
      "outputs": []
    },
    {
      "cell_type": "code",
      "source": [
        "filtered_sentence"
      ],
      "metadata": {
        "colab": {
          "base_uri": "https://localhost:8080/"
        },
        "id": "FewSFNPY7RIr",
        "outputId": "213f629d-4090-41c9-ed1c-d028990d2521"
      },
      "execution_count": 61,
      "outputs": [
        {
          "output_type": "execute_result",
          "data": {
            "text/plain": [
              "['This', 'cool']"
            ]
          },
          "metadata": {},
          "execution_count": 61
        }
      ]
    },
    {
      "cell_type": "code",
      "source": [
        "print(tknzr.tokenize(s0))\n",
        "print(filtered_sentence)"
      ],
      "metadata": {
        "colab": {
          "base_uri": "https://localhost:8080/"
        },
        "id": "L5EKDnVr7T1s",
        "outputId": "19167488-c39f-4e53-8a0b-d2916cf82360"
      },
      "execution_count": 63,
      "outputs": [
        {
          "output_type": "stream",
          "name": "stdout",
          "text": [
            "['This', 'is', 'not', 'cool']\n",
            "['This', 'cool']\n"
          ]
        }
      ]
    },
    {
      "cell_type": "code",
      "source": [
        "s2 = \"The quick brown fox jumps into the lazy dog\""
      ],
      "metadata": {
        "id": "rJtB43VY7ndt"
      },
      "execution_count": 64,
      "outputs": []
    },
    {
      "cell_type": "code",
      "source": [
        "filtered_sentence = [w for w in tknzr.tokenize(s2) if not w in stop_words]\n",
        "filtered_sentence = []"
      ],
      "metadata": {
        "id": "XmsaCDL48EMu"
      },
      "execution_count": 65,
      "outputs": []
    },
    {
      "cell_type": "code",
      "source": [
        "for w in tknzr.tokenize(s2):\n",
        "  if w not in stop_words:\n",
        "    filtered_sentence.append(w)"
      ],
      "metadata": {
        "id": "iTDEcKfF7-16"
      },
      "execution_count": 66,
      "outputs": []
    },
    {
      "cell_type": "code",
      "source": [
        "print(tknzr.tokenize(s2))\n",
        "print(filtered_sentence)"
      ],
      "metadata": {
        "colab": {
          "base_uri": "https://localhost:8080/"
        },
        "id": "wN0Dnu4T8GhN",
        "outputId": "fd438c5f-1c4f-4088-c3b6-08e8a72a98e8"
      },
      "execution_count": 67,
      "outputs": [
        {
          "output_type": "stream",
          "name": "stdout",
          "text": [
            "['The', 'quick', 'brown', 'fox', 'jumps', 'into', 'the', 'lazy', 'dog']\n",
            "['The', 'quick', 'brown', 'fox', 'jumps', 'lazy', 'dog']\n"
          ]
        }
      ]
    },
    {
      "cell_type": "code",
      "source": [],
      "metadata": {
        "id": "VGOd4CD78Jpq"
      },
      "execution_count": null,
      "outputs": []
    }
  ]
}