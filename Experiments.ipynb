{
  "cells": [
    {
      "cell_type": "markdown",
      "metadata": {
        "id": "view-in-github",
        "colab_type": "text"
      },
      "source": [
        "<a href=\"https://colab.research.google.com/github/20WH1A6637/NaturalLanguageProcessing-LAB/blob/main/Experiments.ipynb\" target=\"_parent\"><img src=\"https://colab.research.google.com/assets/colab-badge.svg\" alt=\"Open In Colab\"/></a>"
      ]
    },
    {
      "cell_type": "markdown",
      "metadata": {
        "id": "M8WsDi1RLAHP"
      },
      "source": [
        "Word Analysis\n",
        "\n",
        "Regular Expression(RegEx)\n",
        "\n",
        "A RegEx is a sequence of characters that forms a search pattern.RegEx can be used to check if a string contains the specified search pattern.\n",
        "\n",
        "\n",
        "Why are regular expressions essential for NLP?\n",
        "Whenever we deal with text data, it may have words we want to remove,punctuation taht is not needed,hyperlinks or HTML that can be done away with, and dates or numerical entities that can be made simpler.\n",
        "\n",
        "Python has a built in package called re,which can be used to work with regular expressions.\n",
        "\n",
        "Import the re module:\n",
        "\n",
        "\n",
        "\n",
        "\n",
        "\n"
      ]
    },
    {
      "cell_type": "code",
      "execution_count": 1,
      "metadata": {
        "id": "yMipy_86JeEz"
      },
      "outputs": [],
      "source": [
        "import re"
      ]
    },
    {
      "cell_type": "markdown",
      "metadata": {
        "id": "33FV-iptMP2Z"
      },
      "source": [
        "The findall() function returns a list containing all matches."
      ]
    },
    {
      "cell_type": "code",
      "execution_count": 2,
      "metadata": {
        "colab": {
          "base_uri": "https://localhost:8080/"
        },
        "id": "9EztiuiyJ0mO",
        "outputId": "4a00c4dc-f1c2-42c6-be32-eb4bf0c0bb55"
      },
      "outputs": [
        {
          "output_type": "stream",
          "name": "stdout",
          "text": [
            "['ai', 'ai']\n"
          ]
        }
      ],
      "source": [
        "txt=\"The rain in spain\"\n",
        "x=re.findall(\"ai\",txt)\n",
        "print(x)"
      ]
    },
    {
      "cell_type": "markdown",
      "metadata": {
        "id": "YMORS744MST3"
      },
      "source": [
        "The list contains the matches in the order they are found.If no matches are found, an empty list is returned.\n",
        "\n",
        "\n",
        "2. The search() function searches the string for a match,and returns a Match object if there is a match.If there is more than one match ,only the first occurence of the match will be returned."
      ]
    },
    {
      "cell_type": "code",
      "execution_count": 3,
      "metadata": {
        "colab": {
          "base_uri": "https://localhost:8080/"
        },
        "id": "jBJtz4CHM8E8",
        "outputId": "ce2cef31-e4d6-424e-f3c0-287fa1c91a57"
      },
      "outputs": [
        {
          "output_type": "stream",
          "name": "stdout",
          "text": [
            "The f\n"
          ]
        }
      ],
      "source": [
        "txt=\"The rain in spain\"\n",
        "x=re.search(\"\\s\",txt)\n",
        "print(\"The f\")"
      ]
    },
    {
      "cell_type": "code",
      "source": [
        "import nltk\n"
      ],
      "metadata": {
        "id": "puK3CfqF2Hdq"
      },
      "execution_count": 4,
      "outputs": []
    },
    {
      "cell_type": "code",
      "source": [
        "nltk.download('wordnet')"
      ],
      "metadata": {
        "colab": {
          "base_uri": "https://localhost:8080/"
        },
        "id": "jybeLzgy2N7B",
        "outputId": "af23bb5b-3870-431d-ce60-a541e60bc3ba"
      },
      "execution_count": 5,
      "outputs": [
        {
          "output_type": "stream",
          "name": "stderr",
          "text": [
            "[nltk_data] Downloading package wordnet to /root/nltk_data...\n"
          ]
        },
        {
          "output_type": "execute_result",
          "data": {
            "text/plain": [
              "True"
            ]
          },
          "metadata": {},
          "execution_count": 5
        }
      ]
    },
    {
      "cell_type": "code",
      "source": [
        "from nltk.tokenize import TweetTokenizer\n"
      ],
      "metadata": {
        "id": "vpd4u5S92X77"
      },
      "execution_count": 6,
      "outputs": []
    },
    {
      "cell_type": "code",
      "source": [
        "tknzr=TweetTokenizer()"
      ],
      "metadata": {
        "id": "s0VGTZJb2n_I"
      },
      "execution_count": 7,
      "outputs": []
    },
    {
      "cell_type": "code",
      "source": [
        "s0=\"This is cool\""
      ],
      "metadata": {
        "id": "TeBOrnAk24ch"
      },
      "execution_count": 8,
      "outputs": []
    },
    {
      "cell_type": "code",
      "source": [
        "S1=\"This is coo1!\""
      ],
      "metadata": {
        "id": "au_1VRz23C4o"
      },
      "execution_count": 9,
      "outputs": []
    },
    {
      "cell_type": "code",
      "source": [
        "tknzr.tokenize(s0)"
      ],
      "metadata": {
        "colab": {
          "base_uri": "https://localhost:8080/"
        },
        "id": "wfkG45u23LZp",
        "outputId": "6170f2fa-9200-42fa-a87c-0a351f198df1"
      },
      "execution_count": 10,
      "outputs": [
        {
          "output_type": "execute_result",
          "data": {
            "text/plain": [
              "['This', 'is', 'cool']"
            ]
          },
          "metadata": {},
          "execution_count": 10
        }
      ]
    },
    {
      "cell_type": "code",
      "source": [
        "tknzr.tokenize(S1)"
      ],
      "metadata": {
        "colab": {
          "base_uri": "https://localhost:8080/"
        },
        "id": "9lQtkXwn3nqj",
        "outputId": "44d36fc2-a353-4a01-86c5-6a30f9ebd6a0"
      },
      "execution_count": 11,
      "outputs": [
        {
          "output_type": "execute_result",
          "data": {
            "text/plain": [
              "['This', 'is', 'coo', '1', '!']"
            ]
          },
          "metadata": {},
          "execution_count": 11
        }
      ]
    },
    {
      "cell_type": "markdown",
      "metadata": {
        "id": "KpDttAiGK_Jg"
      },
      "source": []
    },
    {
      "cell_type": "code",
      "source": [
        "from nltk.corpus import stopwords\n",
        "from nltk.tokenize import word_tokenize"
      ],
      "metadata": {
        "id": "spPHvTqM44Ay"
      },
      "execution_count": 12,
      "outputs": []
    },
    {
      "cell_type": "code",
      "source": [
        "nltk.download('stopwords')"
      ],
      "metadata": {
        "colab": {
          "base_uri": "https://localhost:8080/"
        },
        "id": "tgzd0ss-Lykt",
        "outputId": "bca04375-b6f7-46fb-f8be-d18ba5b8587c"
      },
      "execution_count": 13,
      "outputs": [
        {
          "output_type": "stream",
          "name": "stderr",
          "text": [
            "[nltk_data] Downloading package stopwords to /root/nltk_data...\n",
            "[nltk_data]   Unzipping corpora/stopwords.zip.\n"
          ]
        },
        {
          "output_type": "execute_result",
          "data": {
            "text/plain": [
              "True"
            ]
          },
          "metadata": {},
          "execution_count": 13
        }
      ]
    },
    {
      "cell_type": "code",
      "source": [
        "stop_words = set(stopwords.words('english'))\n",
        "print(stop_words)\n",
        "  "
      ],
      "metadata": {
        "colab": {
          "base_uri": "https://localhost:8080/"
        },
        "id": "NbO5-25a5QwD",
        "outputId": "e0708173-1a5b-4d6b-ef94-6d554b9e089b"
      },
      "execution_count": 14,
      "outputs": [
        {
          "output_type": "stream",
          "name": "stdout",
          "text": [
            "{\"she's\", \"hasn't\", 'all', 'itself', 'is', 'doing', 'doesn', 'it', 'under', 'than', \"wouldn't\", \"hadn't\", \"weren't\", \"should've\", \"needn't\", 'against', 'off', 'you', 'she', 'wasn', \"you've\", 'y', 'each', 'themselves', 'wouldn', \"mightn't\", 'our', \"didn't\", 'its', 'been', 'after', 'o', 'yourself', 'are', 'do', 'me', 'didn', 'on', 'such', 'up', 'shouldn', 'why', 'so', 'i', 'at', \"won't\", 'be', 'don', 'where', 'own', 'him', 'about', 'll', 're', 'once', 'not', 'were', 'too', 'am', 'yourselves', 'then', 'no', 'her', 'being', 'does', 've', 'd', 'down', 'mustn', 'ain', 'yours', 'into', 'we', 'but', 'few', 'will', 'haven', \"couldn't\", 'when', 'm', 'other', 'above', 'from', 'he', 'that', 'any', 'both', 's', 'over', 'needn', 'as', \"that'll\", 'during', 'can', \"it's\", \"mustn't\", 'with', 'myself', 'himself', 'out', 'couldn', 'them', 'there', 'whom', 'shan', 'those', 'same', 'had', \"aren't\", 'weren', 'here', 'for', 'did', 'have', 'some', 'of', 'only', 'was', \"don't\", 'ours', 'these', 'mightn', 'what', 'again', 'until', \"doesn't\", 'or', 'by', \"shan't\", 'if', 'hadn', \"you're\", 'hers', 'they', 'to', 'now', 'the', 'in', 'before', 'very', 'my', 'an', 'just', 'hasn', \"isn't\", 'should', 'won', \"wasn't\", \"shouldn't\", \"haven't\", 'his', 'more', 'your', 'nor', 'having', 'ma', 'aren', 'which', 'through', 'who', 'ourselves', 'this', 'theirs', 'and', 'between', \"you'll\", 'because', 'most', 'further', 'herself', 'a', 'how', 'isn', 'while', \"you'd\", 't', 'has', 'their', 'below'}\n"
          ]
        }
      ]
    },
    {
      "cell_type": "code",
      "source": [
        "filtered_sentence = [w for w in tknzr.tokenize(s0) if not w in stop_words]\n",
        "\n",
        "filtered_sentence = []"
      ],
      "metadata": {
        "id": "EhfyUvjI6Fub"
      },
      "execution_count": 15,
      "outputs": []
    },
    {
      "cell_type": "code",
      "source": [
        "for w in tknzr.tokenize(s0):\n",
        "  if w not in stop_words:\n",
        "    filtered_sentence.append(w)"
      ],
      "metadata": {
        "id": "cdmBd_vi64tS"
      },
      "execution_count": 16,
      "outputs": []
    },
    {
      "cell_type": "code",
      "source": [
        "print(tknzr.tokenize(s0))\n",
        "print(filtered_sentence)"
      ],
      "metadata": {
        "colab": {
          "base_uri": "https://localhost:8080/"
        },
        "id": "dP1nKjXo7RMp",
        "outputId": "afa89626-2559-4f02-ed30-88c9bb042ab2"
      },
      "execution_count": 17,
      "outputs": [
        {
          "output_type": "stream",
          "name": "stdout",
          "text": [
            "['This', 'is', 'cool']\n",
            "['This', 'cool']\n"
          ]
        }
      ]
    },
    {
      "cell_type": "code",
      "source": [
        "import pandas as pd\n",
        "from sklearn.feature_extraction.text import CountVectorizer, TfidfVectorizer\n",
        " \n"
      ],
      "metadata": {
        "id": "BwpD5hc-s71-"
      },
      "execution_count": 18,
      "outputs": []
    },
    {
      "cell_type": "markdown",
      "source": [
        "Tokenization\n",
        "\n",
        "\n",
        "During the tokenization process, phrases and words split together. The sentence separates into tokens that are divided into characters that include text and punctuation.\n",
        "\n",
        " \n",
        "\n",
        "To make it easier for the computer to understand, the languages of English and NLP techniques work differently. The segmented languages provide the information of each block that helps the machine in evaluating the meaning of words.\n",
        "\n",
        " \n",
        "\n",
        "Tokenization can remove punctuation marks. Otherwise, punctuation granted a separate token.\n",
        "\n",
        " \n",
        "\n",
        "Tokenization example with Spacy"
      ],
      "metadata": {
        "id": "KFWtu_9bt8A5"
      }
    },
    {
      "cell_type": "code",
      "source": [
        "import spacy\n",
        "nlp = spacy.load(\"en_core_web_sm\")\n",
        "doc = nlp(\"The way to get started is to quit talking and begin doing.\")\n",
        "for token in doc:\n",
        "    print(token.text)"
      ],
      "metadata": {
        "colab": {
          "base_uri": "https://localhost:8080/"
        },
        "id": "YUaJ0iyqtTaO",
        "outputId": "1299d81e-9c3c-40da-a531-c40f67c0c8f9"
      },
      "execution_count": 19,
      "outputs": [
        {
          "output_type": "stream",
          "name": "stdout",
          "text": [
            "The\n",
            "way\n",
            "to\n",
            "get\n",
            "started\n",
            "is\n",
            "to\n",
            "quit\n",
            "talking\n",
            "and\n",
            "begin\n",
            "doing\n",
            ".\n"
          ]
        }
      ]
    },
    {
      "cell_type": "markdown",
      "source": [
        "Tokenization example with NLTK"
      ],
      "metadata": {
        "id": "BI2JBQGHuHsp"
      }
    },
    {
      "cell_type": "code",
      "source": [
        "import nltk\n",
        "nltk.download('punkt')\n",
        "from nltk.tokenize import word_tokenize\n",
        "\n",
        "text = \"The way to get started is to quit talking and begin doing.\"\n",
        "print(word_tokenize(text))"
      ],
      "metadata": {
        "colab": {
          "base_uri": "https://localhost:8080/"
        },
        "id": "pF9BXDTRt5IX",
        "outputId": "126a0abc-eeb0-44d7-b7b4-41ad1dfecd0d"
      },
      "execution_count": 20,
      "outputs": [
        {
          "output_type": "stream",
          "name": "stderr",
          "text": [
            "[nltk_data] Downloading package punkt to /root/nltk_data...\n",
            "[nltk_data]   Unzipping tokenizers/punkt.zip.\n"
          ]
        },
        {
          "output_type": "stream",
          "name": "stdout",
          "text": [
            "['The', 'way', 'to', 'get', 'started', 'is', 'to', 'quit', 'talking', 'and', 'begin', 'doing', '.']\n"
          ]
        }
      ]
    },
    {
      "cell_type": "markdown",
      "source": [
        "Stop Word Removal\n",
        "\n",
        "\n",
        "In the English language, the stop words are prepositions, pronouns, and articles. Stop words are very usual in sentences, although they have little significance for natural language processing systems. As a result, the objects are filtered out, and common keywords that provide no information about the text removed.\n",
        "\n",
        " \n",
        "\n",
        "The pre-defined keywords list deletes stop words, which also frees up space in the database. However, there is no usual list of stop words. They are created or pre-selected to meet the software’s requirements. Stopword removal is, in my opinion, one of the most popular NLP techniques out there. You will perform it in almost all your NLP projects.\n",
        "\n",
        " \n",
        "\n",
        "Stop Word Removal Example with NLTK"
      ],
      "metadata": {
        "id": "FzmUe7OUuSln"
      }
    },
    {
      "cell_type": "code",
      "source": [
        "import nltk\n",
        "nltk.download('stopwords')\n",
        "from nltk.corpus import stopwords\n",
        "from nltk.tokenize import word_tokenize\n",
        "stop_words = set(stopwords.words('english'))\n",
        "\n",
        "# Get your text \n",
        "text = \"The way to get started is to quit talking and begin doing.\"\n",
        " \n",
        "# Tokenize your text \n",
        "tokens = word_tokenize(text)\n",
        "\n",
        "# Remove text by checking if token is in the stopwords list \n",
        "processed_text = [w for w in tokens if not w.lower() in stop_words]\n",
        " \n",
        "print(tokens)\n",
        "print(processed_text)"
      ],
      "metadata": {
        "colab": {
          "base_uri": "https://localhost:8080/"
        },
        "id": "Xz1A9xtluMaI",
        "outputId": "374f49f5-179f-4d83-da3b-5ca112733c8b"
      },
      "execution_count": 21,
      "outputs": [
        {
          "output_type": "stream",
          "name": "stdout",
          "text": [
            "['The', 'way', 'to', 'get', 'started', 'is', 'to', 'quit', 'talking', 'and', 'begin', 'doing', '.']\n",
            "['way', 'get', 'started', 'quit', 'talking', 'begin', '.']\n"
          ]
        },
        {
          "output_type": "stream",
          "name": "stderr",
          "text": [
            "[nltk_data] Downloading package stopwords to /root/nltk_data...\n",
            "[nltk_data]   Package stopwords is already up-to-date!\n"
          ]
        }
      ]
    },
    {
      "cell_type": "markdown",
      "source": [
        "Stemming & Lemmatization"
      ],
      "metadata": {
        "id": "jv-s4zgoukWG"
      }
    },
    {
      "cell_type": "markdown",
      "source": [
        "It is just another feature of NLP to be aware of. The process of extracting the root of the word is known as stemming. In daily speech, removing prefixes and suffixes at the beginning or end of each word is referred to as stemming.\n",
        "\n",
        " \n",
        "\n",
        "However, some typical complications arise when expanding or creating a new word known as inflectional affixes and derivational affixes, respectively. As a result, NLP programming languages such as R and Python works in connection with different tools to guarantee that the steaming process is as simple as possible.\n",
        "\n",
        "There are various stemmers that you can use to perform stemming. The most popular stemmers type are Porter’s stemming, Snowball Stemming, Dawson stemming, Lovins stemming, N-Gram Stemming, Krovetz stemming, Lancaster stemming, Xerox stemming.\n",
        "In comparison, Lemmatization reduces the shape of a word or combines similar words. In the standardizing words, for example, tenses, synonyms, and so on are put together based on their meaning. Both Lemmatization & Stemming are NLP techniques used to preprocess text.\n",
        "\n",
        " \n",
        "\n",
        "How to perform Stemming with NLTK?\n",
        "Spacy does not have a stemming library. But, NLTK does have both a stemming and a lemmatization library. "
      ],
      "metadata": {
        "id": "-aUDMwozuoJ7"
      }
    },
    {
      "cell_type": "code",
      "source": [
        "from nltk.stem import PorterStemmer \n",
        "from nltk.tokenize import word_tokenize\n",
        "\n",
        "stemmer = PorterStemmer()\n",
        "text = \"The way to get started is to quit talking and begin doing.\"\n",
        "# Tokenize your text \n",
        "tokens = word_tokenize(text)\n",
        "\n",
        "processed_text =  [stemmer.stem(w) for w in tokens]\n",
        "print(processed_text)"
      ],
      "metadata": {
        "id": "mYGkoID7umfU",
        "colab": {
          "base_uri": "https://localhost:8080/"
        },
        "outputId": "064d4d8e-f712-499f-c00d-775035af83f1"
      },
      "execution_count": 22,
      "outputs": [
        {
          "output_type": "stream",
          "name": "stdout",
          "text": [
            "['the', 'way', 'to', 'get', 'start', 'is', 'to', 'quit', 'talk', 'and', 'begin', 'do', '.']\n"
          ]
        }
      ]
    },
    {
      "cell_type": "markdown",
      "source": [
        "How to perform Lemmatization with NLTK & Spacy?\n",
        "Lemmatization with NLTK"
      ],
      "metadata": {
        "id": "zFmeiAYTviQJ"
      }
    },
    {
      "cell_type": "code",
      "source": [
        "import nltk\n",
        "nltk.download('omw-1.4')"
      ],
      "metadata": {
        "id": "2VG_nHdCvuTx",
        "colab": {
          "base_uri": "https://localhost:8080/"
        },
        "outputId": "5faedb40-6744-447c-d731-f207b959dc89"
      },
      "execution_count": 23,
      "outputs": [
        {
          "output_type": "stream",
          "name": "stderr",
          "text": [
            "[nltk_data] Downloading package omw-1.4 to /root/nltk_data...\n"
          ]
        },
        {
          "output_type": "execute_result",
          "data": {
            "text/plain": [
              "True"
            ]
          },
          "metadata": {},
          "execution_count": 23
        }
      ]
    },
    {
      "cell_type": "code",
      "source": [
        "import nltk\n",
        "nltk.download('wordnet')\n",
        "from nltk.stem import WordNetLemmatizer\n",
        "\n",
        "lemmatizer = WordNetLemmatizer()\n",
        "text = \"take takes taking taken eat eaten ate\"\n",
        "# Tokenize your text \n",
        "tokens = word_tokenize(text)\n",
        "\n",
        "for token in tokens:\n",
        "    print(\"{} : {} \".format(token, lemmatizer.lemmatize(token, \"v\" )))"
      ],
      "metadata": {
        "id": "DxcdzKQxvlAZ",
        "colab": {
          "base_uri": "https://localhost:8080/"
        },
        "outputId": "1d823546-f458-4175-9026-14e93a8a0fa4"
      },
      "execution_count": 24,
      "outputs": [
        {
          "output_type": "stream",
          "name": "stderr",
          "text": [
            "[nltk_data] Downloading package wordnet to /root/nltk_data...\n",
            "[nltk_data]   Package wordnet is already up-to-date!\n"
          ]
        },
        {
          "output_type": "stream",
          "name": "stdout",
          "text": [
            "take : take \n",
            "takes : take \n",
            "taking : take \n",
            "taken : take \n",
            "eat : eat \n",
            "eaten : eat \n",
            "ate : eat \n"
          ]
        }
      ]
    },
    {
      "cell_type": "markdown",
      "source": [
        "Lemmatization with Spacy"
      ],
      "metadata": {
        "id": "-ODgFHzNv6zc"
      }
    },
    {
      "cell_type": "code",
      "source": [
        "import spacy\n",
        "nlp = spacy.load(\"en_core_web_sm\")\n",
        "doc = nlp(\"Take takes taking taken eat eaten ate\")\n",
        "for token in doc:\n",
        "    print(token.lemma_)"
      ],
      "metadata": {
        "id": "0h_GkY8qv7yO",
        "colab": {
          "base_uri": "https://localhost:8080/"
        },
        "outputId": "b5d48aee-1b71-4c11-b626-462b7b1ee699"
      },
      "execution_count": 25,
      "outputs": [
        {
          "output_type": "stream",
          "name": "stdout",
          "text": [
            "take\n",
            "take\n",
            "taking\n",
            "take\n",
            "eat\n",
            "eat\n",
            "eat\n"
          ]
        }
      ]
    },
    {
      "cell_type": "markdown",
      "source": [
        "Topic Modeling\n",
        "\n",
        "\n",
        "\n",
        "The hidden structure of documents and text is revealed by analyzing individual words and contents and then assigning values to them. It is one of the other popular NLP techniques. On the other hand, the assumption is a critical part of this approach in which themes are blended based on the words.\n",
        "\n",
        " \n",
        "\n",
        "Once the text distributes, the hidden content reveals using natural language processing techniques to determine the exact meaning of the text. Latent Dirichlet Allocation (LDA) came into existence around two decades ago as a subject modelling methodology based on unsupervised learning. In this case, the learning process is based on a single output variable, and algorithms are used to examine the data and discover the pattern. LDA uses the related terms group as follows.\n",
        "\n",
        " \n",
        "\n",
        "It generates random topics and assigns numbers to them based on what you want to learn. These random topics are specified as integers that map out using an algorithm to locate the words in the text.\n",
        "\n",
        " \n",
        "\n",
        "The natural language processing system scans each word, assessing the possibility and reassigning the terms to the topic. Multiple scans are performed, and possibilities evaluate until the algorithms conclude.\n",
        "\n",
        " \n",
        "\n",
        "In comparison to the K-means algorithm, LDA works on a variety of topics in the document. This process makes the conclusions more realistic and better explains the issue. With this information, you may conclude that the time has come to invest in AI application development.\n",
        "\n",
        " \n",
        "\n",
        "Example of Topic Modelling using LDA with Python"
      ],
      "metadata": {
        "id": "TQBqT_G_wG81"
      }
    },
    {
      "cell_type": "code",
      "source": [
        "pip install stop-words"
      ],
      "metadata": {
        "id": "Zel6MZ3JwuxA",
        "colab": {
          "base_uri": "https://localhost:8080/"
        },
        "outputId": "a71044b9-63f4-4515-9f08-43c82a1476ec"
      },
      "execution_count": 26,
      "outputs": [
        {
          "output_type": "stream",
          "name": "stdout",
          "text": [
            "Looking in indexes: https://pypi.org/simple, https://us-python.pkg.dev/colab-wheels/public/simple/\n",
            "Collecting stop-words\n",
            "  Downloading stop-words-2018.7.23.tar.gz (31 kB)\n",
            "  Preparing metadata (setup.py) ... \u001b[?25l\u001b[?25hdone\n",
            "Building wheels for collected packages: stop-words\n",
            "  Building wheel for stop-words (setup.py) ... \u001b[?25l\u001b[?25hdone\n",
            "  Created wheel for stop-words: filename=stop_words-2018.7.23-py3-none-any.whl size=32910 sha256=fa55e08bd6d9f95e2ca39468fd30d0883e530ea2bd15be7835c3ac371774c5da\n",
            "  Stored in directory: /root/.cache/pip/wheels/da/d8/66/395317506a23a9d1d7de433ad6a7d9e6e16aab48cf028a0f60\n",
            "Successfully built stop-words\n",
            "Installing collected packages: stop-words\n",
            "Successfully installed stop-words-2018.7.23\n"
          ]
        }
      ]
    },
    {
      "cell_type": "code",
      "source": [
        "from stop_words import get_stop_words\n",
        "from nltk.stem.porter import PorterStemmer\n",
        "from gensim import corpora, models\n",
        "import gensim\n",
        "from nltk.tokenize import word_tokenize\n"
      ],
      "metadata": {
        "id": "0EhEl5Lcwd_R"
      },
      "execution_count": 27,
      "outputs": []
    },
    {
      "cell_type": "code",
      "source": [
        "\n",
        "\n",
        "\n",
        "# Import your documments, these can be paragraphs, full text, sentences etc\n",
        "# These documents are basically your data which you have to import appropriatelly\n",
        "# For the sake of simplicity I will write my documents out bus I suggest you\n",
        "# Not to go the same. Import them appropriatelly.\n",
        "\n",
        "a = \"French comedy film won at the Canne festival\"\n",
        "b = \"The food cooked by the Italian Chef tasted fantastic\"\n",
        "c = \"The Avenger movie was a piece of art. The film was very captivating\"\n",
        "d = \"The Covid transmission rate increase by 68%, said the National Health Institute\"\n",
        "e = \"French cuisine has one of most sophisticated type of food in the world\"\n",
        "\n",
        "# compile sample documents into a list\n",
        "docs = [a, b, c, d, e]\n",
        "\n",
        "\n",
        "# Save all the tokens in the various document in one place\n",
        "text = []\n",
        "\n",
        "# create a list of stop words\n",
        "stopwords = get_stop_words('en')\n",
        "# Initialize the stemmer\n",
        "stemmer = PorterStemmer()\n",
        "\n",
        "# loop through docs \n",
        "for i in docs:\n",
        "    \n",
        "    # clean and tokenize document string\n",
        "    temp = i.lower()\n",
        "    tokens = word_tokenize(temp)\n",
        "\n",
        "    # Removing stopwords \n",
        "    processed_text = [w for w in tokens if not w.lower() in stopwords]\n",
        "    # Stemming\n",
        "    processed_text = [stemmer.stem(w) for w in processed_text]\n",
        "    \n",
        "    # add tokens to list\n",
        "    text.append(processed_text)\n",
        "\n",
        "# turn our tokenized documents into a id <-> term dictionary\n",
        "final_data = corpora.Dictionary(text)\n",
        "    \n",
        "# convert tokenized documents into a document-term matrix\n",
        "corpus = [final_data.doc2bow(docs) for docs in text]\n",
        "\n",
        "# generate LDA model\n",
        "ldamodel = gensim.models.ldamodel.LdaModel(corpus, num_topics=3, id2word = final_data, passes=20)\n",
        "\n",
        "# View the results\n",
        "print(ldamodel.print_topics(num_topics=3, num_words=3))"
      ],
      "metadata": {
        "id": "aS4SrldGwIni",
        "colab": {
          "base_uri": "https://localhost:8080/"
        },
        "outputId": "cc18b711-1526-4c87-c31b-6cadf141b878"
      },
      "execution_count": 28,
      "outputs": [
        {
          "output_type": "stream",
          "name": "stdout",
          "text": [
            "[(0, '0.096*\"food\" + 0.055*\"french\" + 0.055*\"type\"'), (1, '0.073*\"film\" + 0.073*\"art\" + 0.073*\"captiv\"'), (2, '0.047*\"health\" + 0.047*\"covid\" + 0.047*\"nation\"')]\n"
          ]
        }
      ]
    },
    {
      "cell_type": "markdown",
      "source": [
        "Looking at the above we can see and infer that group 1 sentences are about food, group 2 about movies, and group 3 about health. It makes sense since the sentences mentioned that general category.  This technique works great if you have, let’s say, a thousand articles from a website and you want to quickly know what the website is about. You can potentially use the above technique to extract the top N categories/topics. "
      ],
      "metadata": {
        "id": "hDBaHyXKxLwn"
      }
    },
    {
      "cell_type": "markdown",
      "source": [
        "Word Embeddings\n",
        "\n",
        "\n",
        "It is one of the fundamental NLP techniques that use vector representation to describe tokens (converted to numbers). Vector patterns are applied to analyze numbers to solve this.\n",
        "\n",
        " \n",
        "\n",
        "This method captures the spirit of the words and demonstrates the connection between an actual number and the tokens. A vector with a length of 100 represents the fixed dimension. \n",
        "\n",
        " \n",
        "\n",
        "How to create word Embeddings with Python?\n",
        "The code snippet below is the most basic way to create word embeddings using Word2Vec. We imported a sample text from the NLTK library, then we fitted a Word2Vec model on the sentences in that text. And based on that Word2Vec model, we are able to identify want words in the text that are more similar to a term we input. This technique works great if you do search recommendations or even keyword research in Marketing.\n",
        "\n"
      ],
      "metadata": {
        "id": "T5dfMpUZxSYl"
      }
    },
    {
      "cell_type": "code",
      "source": [
        "import nltk\n",
        "nltk.download('abc')\n",
        "  "
      ],
      "metadata": {
        "id": "81ckXvPaxdpL",
        "colab": {
          "base_uri": "https://localhost:8080/"
        },
        "outputId": "4a4fbdc4-45ad-439c-d478-5091617a2b2d"
      },
      "execution_count": 29,
      "outputs": [
        {
          "output_type": "stream",
          "name": "stderr",
          "text": [
            "[nltk_data] Downloading package abc to /root/nltk_data...\n",
            "[nltk_data]   Unzipping corpora/abc.zip.\n"
          ]
        },
        {
          "output_type": "execute_result",
          "data": {
            "text/plain": [
              "True"
            ]
          },
          "metadata": {},
          "execution_count": 29
        }
      ]
    },
    {
      "cell_type": "code",
      "source": [
        "import nltk\n",
        "import gensim\n",
        "from nltk.corpus import abc\n",
        "nltk.download('abc')\n",
        "model= gensim.models.Word2Vec(abc.sents())\n",
        "words= list(model.wv.index_to_key)\n",
        "res=model.wv.most_similar('mobile')\n",
        "print(res)"
      ],
      "metadata": {
        "id": "C_xyhz_hxNPi",
        "colab": {
          "base_uri": "https://localhost:8080/"
        },
        "outputId": "abbde09d-2083-4e09-b2fa-b2d1969abdbc"
      },
      "execution_count": 30,
      "outputs": [
        {
          "output_type": "stream",
          "name": "stderr",
          "text": [
            "[nltk_data] Downloading package abc to /root/nltk_data...\n",
            "[nltk_data]   Package abc is already up-to-date!\n"
          ]
        },
        {
          "output_type": "stream",
          "name": "stdout",
          "text": [
            "[('solutions', 0.9389500617980957), ('devices', 0.9379869103431702), ('phone', 0.9344695806503296), ('traffic', 0.934307336807251), ('phones', 0.932429313659668), ('input', 0.9300932884216309), ('engines', 0.9260209202766418), ('care', 0.9243550300598145), ('systems', 0.9189791679382324), ('interact', 0.9180598258972168)]\n"
          ]
        }
      ]
    },
    {
      "cell_type": "markdown",
      "source": [],
      "metadata": {
        "id": "c3ohudY1xa9V"
      }
    },
    {
      "cell_type": "markdown",
      "source": [
        "Named Entity Disambiguation & Named Entity Recognition\n",
        "\n",
        "\n",
        "\n",
        "The sentence’s entities are recognized in disambiguation, such as the name of a famous person, brand, country etc. For example, the news highlights a new product released by Apple. With NLP approaches in AI, named entity disambiguation is used to assume that Apple is the brand here rather than fruit.\n",
        "\n",
        " \n",
        "\n",
        "In comparison, named entity recognition identifies and categorizes the entity based on the date, organization, person, time, place, etc. Here’s how you perform NER with Python."
      ],
      "metadata": {
        "id": "A7Spmtdfx1TW"
      }
    },
    {
      "cell_type": "code",
      "source": [
        "import spacy\n",
        "\n",
        "nlp = spacy.load(\"en_core_web_sm\")\n",
        "doc = nlp(\"Mark Zuckerberg, CEO of Facebook, is looking at buying U.K. startup for $500 million\")\n",
        "\n",
        "for ent in doc.ents:\n",
        "    print(ent.text, ent.label_)"
      ],
      "metadata": {
        "id": "o9aqXU95x5wr",
        "colab": {
          "base_uri": "https://localhost:8080/"
        },
        "outputId": "7c13880f-4bd1-4e8a-9ed2-5e723ffb6d9e"
      },
      "execution_count": 31,
      "outputs": [
        {
          "output_type": "stream",
          "name": "stdout",
          "text": [
            "Mark Zuckerberg PERSON\n",
            "Facebook ORG\n",
            "U.K. GPE\n",
            "$500 million MONEY\n"
          ]
        }
      ]
    },
    {
      "cell_type": "markdown",
      "source": [
        "Using an arbitrary sentence, the NLP system successfully managed to identify Mark Zuckerberg as a PERSON, Facebook as an Organization, UK as a Geopolitical Entity (Country, State, Cities, etc) and 500 million as Monetary value. NER is a great way to filter through text. For example, it works great if your want to know how many times a particular type of entity is explicitly mentioned in a text. "
      ],
      "metadata": {
        "id": "516XFm1JyOFd"
      }
    },
    {
      "cell_type": "markdown",
      "source": [
        "Language Identification & Text Summarization:\n",
        "\n",
        "\n",
        "\n",
        "Language identification uses syntax and statistical features to identify the language based on its content. Text summarization, on the other hand, is comparable to language identification. Still, it shortens the recognized text, making it an essential aspect of natural language processing training for beginners.\n",
        "\n",
        " \n",
        "\n",
        "Here is how you can identify a language with Python."
      ],
      "metadata": {
        "id": "wOB4ApNKyTaG"
      }
    },
    {
      "cell_type": "code",
      "source": [
        "pip install langdetect"
      ],
      "metadata": {
        "id": "4mrG-E2Iyi5k",
        "colab": {
          "base_uri": "https://localhost:8080/"
        },
        "outputId": "88806e8c-ab69-4f9c-c723-1f1c5000092c"
      },
      "execution_count": 32,
      "outputs": [
        {
          "output_type": "stream",
          "name": "stdout",
          "text": [
            "Looking in indexes: https://pypi.org/simple, https://us-python.pkg.dev/colab-wheels/public/simple/\n",
            "Collecting langdetect\n",
            "  Downloading langdetect-1.0.9.tar.gz (981 kB)\n",
            "\u001b[2K     \u001b[90m━━━━━━━━━━━━━━━━━━━━━━━━━━━━━━━━━━━━━━\u001b[0m \u001b[32m981.5/981.5 kB\u001b[0m \u001b[31m14.5 MB/s\u001b[0m eta \u001b[36m0:00:00\u001b[0m\n",
            "\u001b[?25h  Preparing metadata (setup.py) ... \u001b[?25l\u001b[?25hdone\n",
            "Requirement already satisfied: six in /usr/local/lib/python3.9/dist-packages (from langdetect) (1.16.0)\n",
            "Building wheels for collected packages: langdetect\n",
            "  Building wheel for langdetect (setup.py) ... \u001b[?25l\u001b[?25hdone\n",
            "  Created wheel for langdetect: filename=langdetect-1.0.9-py3-none-any.whl size=993243 sha256=33027d3ace23effa42b51129ed333425c2cdf1fef64bc16c83eab2056cfb0c3c\n",
            "  Stored in directory: /root/.cache/pip/wheels/d1/c1/d9/7e068de779d863bc8f8fc9467d85e25cfe47fa5051fff1a1bb\n",
            "Successfully built langdetect\n",
            "Installing collected packages: langdetect\n",
            "Successfully installed langdetect-1.0.9\n"
          ]
        }
      ]
    },
    {
      "cell_type": "code",
      "source": [
        "from langdetect import detect\n",
        "french = \"J'ai mis ma pomme dans le frigo\"\n",
        "english = \"I loved my time in New York\"\n",
        "italian = \"Voglio mangiare una pizza\"\n",
        "\n",
        "test = [french, english, italian]\n",
        "for language in test:\n",
        "    print(detect(language))"
      ],
      "metadata": {
        "id": "RUMuR1c0yPaT",
        "colab": {
          "base_uri": "https://localhost:8080/"
        },
        "outputId": "3d5052af-ae05-4aa2-8443-998c538a514c"
      },
      "execution_count": 33,
      "outputs": [
        {
          "output_type": "stream",
          "name": "stdout",
          "text": [
            "fr\n",
            "en\n",
            "it\n"
          ]
        }
      ]
    },
    {
      "cell_type": "markdown",
      "source": [
        "Key Benefits of Using Natural Language Processing (NLP Techniques)\n",
        "\n",
        "\n",
        "\n",
        "To adopt and learn words and grammar, natural language processing (NLP) use machine learning (ML) techniques. After that, the inputs process using grammatical rules, linguistic habits, and regular algorithms to generate computer-based natural language. The approach helps in the translation of languages.\n",
        "\n",
        "\n",
        " \n",
        "\n",
        "Every internet user has used a natural language processing (NLP) program. Search engines such as Google and Bing use Natural Language Processing to suggest possible search requests. When users begin to enter search parameters, search engines attempt to finish the demand for them. Users can choose from the recommended criteria or continue typing their query.\n",
        "\n",
        " \n",
        "\n",
        "NLP uses are not limited to search engines. Voice-activated devices use NLP such as Siri and Alexa to assist in process language. Indeed, chatbots use NLP to provide more accurate replies to end-user inquiries. The technique may be used to extract relevant information from unstructured data to create better data sets. Furthermore, there are numerous significant advantages of using NLP in corporations.\n",
        "\n",
        " \n",
        "\n",
        "Offer Immediate Customer Service:\n",
        "Even if you’ve never heard of Natural Language Processing, we’re guessing you’ve heard of chatbots — AI-powered software that can converse with users via websites or applications. Chatbots deploy NLP to provide your consumers with rapid replies to any issue, no matter what time of day or week it is.\n",
        "\n",
        " \n",
        "\n",
        "Because chatbots fulfil the customer service executive job, if inquiries focus on the same topics, chatbots might employ predetermined replies to save clients ever waiting for a service desk response. Furthermore, they can give special assistance, such as providing a link to instructions, reserving a service, or locating different items.\n",
        "\n",
        " \n",
        "\n",
        "Chatbots can now recognize a user’s intent owing to developments in machine learning algorithms and word analysis. Chatbots are the ideal answer in an age where the immediate reward is expected. They’ll even transform possibilities into customers by providing exceptional service.\n",
        "\n",
        " \n",
        "\n",
        "As you can see, automated customer service has numerous advantages. According to Opus analysis, firms would invest up to $4.5 billion in chatbots by 2021.\n",
        "\n",
        " \n",
        "\n",
        "Better Data Analysis:\n",
        "When doing repeated jobs, such as reading and analyzing open-ended survey replies and other text data, people are likely to make mistakes or having flaws that might affect the results.\n",
        "\n",
        " \n",
        "\n",
        "NLP-powered tools may be trained to your company’s language and requirements in a matter of minutes. As a result, once they’re up and running, they execute far more accurately than humans ever could. And, as your business’s marketplace or language changes, you may fine-tune and train your systems.\n",
        "\n",
        " \n",
        "\n",
        "Streamlined Processes\n",
        "Many professional service businesses, such as legal firms or accounting firms, must evaluate massive amounts of financial material. Developing a natural language processing solution tailored to the needs of legal and accounting professionals can minimize the amount of time spent searching for specific sections. \n",
        "\n",
        " \n",
        "\n",
        "Because many agreements have identical language, workers might spend hours searching for the correct document. A chatbot may be trained using NLP to discover specific clauses across numerous contracts without the need for human interaction.\n",
        "\n",
        " \n",
        "\n",
        "Using a chatbot to create and review contracts simplifies the process. It also allows employees to work on other projects while papers are being searched. NLP can increase efficiency in areas other than professional services. \n",
        "\n",
        " \n",
        "\n",
        "Chatbots can assist customer service representatives in answering queries quickly. Employees can implement NLP to search across numerous sources and deliver details with faster response times rather than manually searching a knowledge base or helpdesk.\n",
        "\n",
        " \n",
        "\n",
        "Reduce Costs And Inefficiencies\n",
        "Running a profitable business involves reducing expenses wherever possible. While everyone wants to increase the amount of money that comes into their firm, simplifying your current operation by enhancing overall efficiency may do wonders for your profit statement.\n",
        "\n",
        " \n",
        "\n",
        "NLP-trained chatbots can significantly minimize the expenses associated with manual and repetitive operations. While there are now opportunities for savings, companies will profit much more in the future as machine learning enhances chatbot capability and consumers get more comfortable interacting with robots. \n",
        "\n",
        " \n",
        "\n",
        "Empowered Employees\n",
        "Employees may do higher-level jobs when repetitious functions eliminate. It reduces activities that contribute to boredom, tiredness, and disengagement. The use of NLP technology can result in a more successful organization.\n",
        "\n",
        " \n",
        "\n",
        "NLP solutions empower employees. An NLP chatbot can assist workers in efficiently obtaining information. The technology can produce a more comprehensive data set since it processes data from many sources. Employees can interpret the data to respond to client requests or to complete assigned work more efficiently. They are not required to waste time looking through files.\n",
        "\n",
        " \n",
        "\n",
        "Giving employees the freedom to work independently improves staff happiness and engagement. Employees who engaged are better representatives for a brand and provide better customer experiences, resulting in a high level of customer satisfaction.\n",
        "\n",
        " \n",
        "\n",
        "Future of NLP\n",
        "\n",
        "\n",
        "\n",
        "\n",
        "NLP is becoming a fundamental aspect of technology in the modern-day, particularly with machine learning, deep learning, and artificial intelligence solutions at its foundation. Companies now can communicate with customers more readily and make a difference in the market by learning from them.\n",
        "\n",
        " \n",
        "\n",
        "Companies apply natural language processing (NLP) approaches to improve consumer interactions, interact with data, and achieve the desired conclusion. Natural language processing (NLP) tools are assisting in making procedures better and quicker. It brings a new era of communication with machines; companies are now making more informed decisions and becoming more adaptable. It is a fundamental revolution in market technology while keeping client feelings in mind.\n",
        "\n",
        " \n",
        "\n",
        "Organizations will grow elegant as a result of NLP and the popularization of intelligence in a way that will benefit them. Integrating NLP with other technologies will change how consumers interact with technology such as computers and smartphones. When it comes to NLP, the future is looking bright, and advances will make the future even shining. \n",
        "\n",
        " "
      ],
      "metadata": {
        "id": "b-UOHsxizApd"
      }
    },
    {
      "cell_type": "markdown",
      "source": [
        "Tokenization"
      ],
      "metadata": {
        "id": "zBBnwtEUNlXD"
      }
    },
    {
      "cell_type": "code",
      "source": [
        "import nltk\n",
        "corpus = \"This is an exciting time to be working in speech and language processing. Historically distinct fields(natural language processing, speech recognition, computational linguistics, computational psycholinguistics)have begun to merge.\"\n",
        "tokens = nltk.word_tokenize(corpus) \n",
        "print(\"Original corpus :\\n\",corpus,\"\\n\") \n",
        "print(\"Tokenized words : \\n\", tokens)\n"
      ],
      "metadata": {
        "id": "QjrG0XRgzCOm",
        "colab": {
          "base_uri": "https://localhost:8080/"
        },
        "outputId": "b5da560f-2e2e-4088-f47f-21ddd84a02cd"
      },
      "execution_count": 34,
      "outputs": [
        {
          "output_type": "stream",
          "name": "stdout",
          "text": [
            "Original corpus :\n",
            " This is an exciting time to be working in speech and language processing. Historically distinct fields(natural language processing, speech recognition, computational linguistics, computational psycholinguistics)have begun to merge. \n",
            "\n",
            "Tokenized words : \n",
            " ['This', 'is', 'an', 'exciting', 'time', 'to', 'be', 'working', 'in', 'speech', 'and', 'language', 'processing', '.', 'Historically', 'distinct', 'fields', '(', 'natural', 'language', 'processing', ',', 'speech', 'recognition', ',', 'computational', 'linguistics', ',', 'computational', 'psycholinguistics', ')', 'have', 'begun', 'to', 'merge', '.']\n"
          ]
        }
      ]
    },
    {
      "cell_type": "markdown",
      "source": [
        "Stemming\n"
      ],
      "metadata": {
        "id": "uFa-4EjLNrr8"
      }
    },
    {
      "cell_type": "code",
      "source": [
        "import nltk\n",
        "from nltk.stem.porter import PorterStemmer\n",
        "corpus = \"This is an exciting time to be working in speech and language processing. Historically distinct fields (natural language processing, speech recognition, computational linguistics, computational psycholinguistics)have begun to merge.\"\n",
        "tokens = nltk.word_tokenize(corpus) \n",
        "print(\"Original corpus :\\n\",corpus,\"\\n\") \n",
        "print(\"Tokenized words : \\n\", tokens)\n",
        "porter = PorterStemmer()\n",
        "stem_words = [porter.stem(stem) for stem in tokens] \n",
        "print(\"\\nStemmed words :\\n\",stem_words)\n",
        "\n",
        "\n",
        "\n"
      ],
      "metadata": {
        "id": "KLgPWDuCNuy2",
        "colab": {
          "base_uri": "https://localhost:8080/"
        },
        "outputId": "d6503844-8d4c-41dd-cdfd-b1a528e3105b"
      },
      "execution_count": 35,
      "outputs": [
        {
          "output_type": "stream",
          "name": "stdout",
          "text": [
            "Original corpus :\n",
            " This is an exciting time to be working in speech and language processing. Historically distinct fields (natural language processing, speech recognition, computational linguistics, computational psycholinguistics)have begun to merge. \n",
            "\n",
            "Tokenized words : \n",
            " ['This', 'is', 'an', 'exciting', 'time', 'to', 'be', 'working', 'in', 'speech', 'and', 'language', 'processing', '.', 'Historically', 'distinct', 'fields', '(', 'natural', 'language', 'processing', ',', 'speech', 'recognition', ',', 'computational', 'linguistics', ',', 'computational', 'psycholinguistics', ')', 'have', 'begun', 'to', 'merge', '.']\n",
            "\n",
            "Stemmed words :\n",
            " ['thi', 'is', 'an', 'excit', 'time', 'to', 'be', 'work', 'in', 'speech', 'and', 'languag', 'process', '.', 'histor', 'distinct', 'field', '(', 'natur', 'languag', 'process', ',', 'speech', 'recognit', ',', 'comput', 'linguist', ',', 'comput', 'psycholinguist', ')', 'have', 'begun', 'to', 'merg', '.']\n"
          ]
        }
      ]
    },
    {
      "cell_type": "markdown",
      "source": [
        "Stop Word Removal"
      ],
      "metadata": {
        "id": "1G5L7xeuN3xt"
      }
    },
    {
      "cell_type": "code",
      "source": [
        "import nltk\n",
        "from nltk.corpus import stopwords\n",
        "corpus = \"This is an exciting time to be working in speech and language processing. Historically distinct fields (natural language processing, speech recognition, computational linguistics, computational psycholinguistics) have begun to merge.\"\n",
        "tokens = nltk.word_tokenize(corpus) \n",
        "print(\"Original corpus :\\n\",corpus,\"\\n\")\n",
        "print(\"Tokenized words : \\n\", tokens)\n",
        "stop_words = set(stopwords.words(\"english\"))\n",
        "rel_words = [rel for rel in tokens if not rel in stop_words]\n",
        "print(\"\\nTokens without stop words :\\n\",rel_words)\n",
        "\n"
      ],
      "metadata": {
        "id": "i5tcmxbILjU1",
        "colab": {
          "base_uri": "https://localhost:8080/"
        },
        "outputId": "0acc5a21-3056-42e3-9e02-1064a3c6bfa2"
      },
      "execution_count": 36,
      "outputs": [
        {
          "output_type": "stream",
          "name": "stdout",
          "text": [
            "Original corpus :\n",
            " This is an exciting time to be working in speech and language processing. Historically distinct fields (natural language processing, speech recognition, computational linguistics, computational psycholinguistics) have begun to merge. \n",
            "\n",
            "Tokenized words : \n",
            " ['This', 'is', 'an', 'exciting', 'time', 'to', 'be', 'working', 'in', 'speech', 'and', 'language', 'processing', '.', 'Historically', 'distinct', 'fields', '(', 'natural', 'language', 'processing', ',', 'speech', 'recognition', ',', 'computational', 'linguistics', ',', 'computational', 'psycholinguistics', ')', 'have', 'begun', 'to', 'merge', '.']\n",
            "\n",
            "Tokens without stop words :\n",
            " ['This', 'exciting', 'time', 'working', 'speech', 'language', 'processing', '.', 'Historically', 'distinct', 'fields', '(', 'natural', 'language', 'processing', ',', 'speech', 'recognition', ',', 'computational', 'linguistics', ',', 'computational', 'psycholinguistics', ')', 'begun', 'merge', '.']\n"
          ]
        }
      ]
    },
    {
      "cell_type": "markdown",
      "source": [
        "POS Tagging"
      ],
      "metadata": {
        "id": "k_8EIFkzOFbi"
      }
    },
    {
      "cell_type": "code",
      "source": [
        "nltk.download('averaged_perceptron_tagger')"
      ],
      "metadata": {
        "id": "YlXQzu9FOoyx",
        "colab": {
          "base_uri": "https://localhost:8080/"
        },
        "outputId": "7836f09a-31ac-4638-e039-cbf349ea213c"
      },
      "execution_count": 37,
      "outputs": [
        {
          "output_type": "stream",
          "name": "stderr",
          "text": [
            "[nltk_data] Downloading package averaged_perceptron_tagger to\n",
            "[nltk_data]     /root/nltk_data...\n",
            "[nltk_data]   Unzipping taggers/averaged_perceptron_tagger.zip.\n"
          ]
        },
        {
          "output_type": "execute_result",
          "data": {
            "text/plain": [
              "True"
            ]
          },
          "metadata": {},
          "execution_count": 37
        }
      ]
    },
    {
      "cell_type": "code",
      "source": [
        "from nltk import pos_tag\n",
        "text = \"This is an exciting time to be working in speech and language processing. Historically distinct fields (natural language processing, speech recognition, computational linguistics, computational psycholinguistics)have begun to merge.\" \n",
        "tokens = text.split()\n",
        "print(\"Tokenized words : \\n\",tokens) \n",
        "tagged_words =pos_tag(tokens)\n",
        "print(\"\\nPOS tagged words : \\n\",tagged_words)\n",
        "\n",
        "\n"
      ],
      "metadata": {
        "id": "USn9Vq7NOJIC",
        "colab": {
          "base_uri": "https://localhost:8080/"
        },
        "outputId": "9930666b-2b25-4635-d92a-3dde8ea0b6de"
      },
      "execution_count": 38,
      "outputs": [
        {
          "output_type": "stream",
          "name": "stdout",
          "text": [
            "Tokenized words : \n",
            " ['This', 'is', 'an', 'exciting', 'time', 'to', 'be', 'working', 'in', 'speech', 'and', 'language', 'processing.', 'Historically', 'distinct', 'fields', '(natural', 'language', 'processing,', 'speech', 'recognition,', 'computational', 'linguistics,', 'computational', 'psycholinguistics)have', 'begun', 'to', 'merge.']\n",
            "\n",
            "POS tagged words : \n",
            " [('This', 'DT'), ('is', 'VBZ'), ('an', 'DT'), ('exciting', 'JJ'), ('time', 'NN'), ('to', 'TO'), ('be', 'VB'), ('working', 'VBG'), ('in', 'IN'), ('speech', 'NN'), ('and', 'CC'), ('language', 'NN'), ('processing.', 'NN'), ('Historically', 'NNP'), ('distinct', 'JJ'), ('fields', 'NNS'), ('(natural', 'JJ'), ('language', 'NN'), ('processing,', 'NN'), ('speech', 'NN'), ('recognition,', 'VBP'), ('computational', 'JJ'), ('linguistics,', 'JJ'), ('computational', 'JJ'), ('psycholinguistics)have', 'NN'), ('begun', 'VBN'), ('to', 'TO'), ('merge.', 'VB')]\n"
          ]
        }
      ]
    },
    {
      "cell_type": "markdown",
      "source": [
        "Morphology"
      ],
      "metadata": {
        "id": "TOIP-VS9OxSV"
      }
    },
    {
      "cell_type": "code",
      "source": [
        "import spacy\n",
        "from spacy import displacy\n"
      ],
      "metadata": {
        "id": "NVMce0NtPSjh"
      },
      "execution_count": 39,
      "outputs": []
    },
    {
      "cell_type": "code",
      "source": [
        "import spacy\n",
        "from spacy.lang.en.examples import sentences\n",
        "nlp = spacy.load(\"en_core_web_sm\")\n",
        "doc = nlp(sentences[1]) \n",
        "print(doc.text)\n",
        "for token in doc:\n",
        " print(token.text, token.pos_, token.dep_)\n",
        "displacy.render(doc, style=\"dep\",jupyter=True,options ={'distance':140})\n"
      ],
      "metadata": {
        "id": "-euGuk_ROz-v",
        "colab": {
          "base_uri": "https://localhost:8080/",
          "height": 507
        },
        "outputId": "b73e87d3-a09a-4f1b-8b67-dd1a7f39d423"
      },
      "execution_count": 40,
      "outputs": [
        {
          "output_type": "stream",
          "name": "stdout",
          "text": [
            "Autonomous cars shift insurance liability toward manufacturers\n",
            "Autonomous ADJ amod\n",
            "cars NOUN nsubj\n",
            "shift VERB ROOT\n",
            "insurance NOUN compound\n",
            "liability NOUN dobj\n",
            "toward ADP prep\n",
            "manufacturers NOUN pobj\n"
          ]
        },
        {
          "output_type": "display_data",
          "data": {
            "text/plain": [
              "<IPython.core.display.HTML object>"
            ],
            "text/html": [
              "<span class=\"tex2jax_ignore\"><svg xmlns=\"http://www.w3.org/2000/svg\" xmlns:xlink=\"http://www.w3.org/1999/xlink\" xml:lang=\"en\" id=\"ab7e71f8f1054f0c9281de82e49f9f85-0\" class=\"displacy\" width=\"1030\" height=\"347.0\" direction=\"ltr\" style=\"max-width: none; height: 347.0px; color: #000000; background: #ffffff; font-family: Arial; direction: ltr\">\n",
              "<text class=\"displacy-token\" fill=\"currentColor\" text-anchor=\"middle\" y=\"257.0\">\n",
              "    <tspan class=\"displacy-word\" fill=\"currentColor\" x=\"50\">Autonomous</tspan>\n",
              "    <tspan class=\"displacy-tag\" dy=\"2em\" fill=\"currentColor\" x=\"50\">ADJ</tspan>\n",
              "</text>\n",
              "\n",
              "<text class=\"displacy-token\" fill=\"currentColor\" text-anchor=\"middle\" y=\"257.0\">\n",
              "    <tspan class=\"displacy-word\" fill=\"currentColor\" x=\"190\">cars</tspan>\n",
              "    <tspan class=\"displacy-tag\" dy=\"2em\" fill=\"currentColor\" x=\"190\">NOUN</tspan>\n",
              "</text>\n",
              "\n",
              "<text class=\"displacy-token\" fill=\"currentColor\" text-anchor=\"middle\" y=\"257.0\">\n",
              "    <tspan class=\"displacy-word\" fill=\"currentColor\" x=\"330\">shift</tspan>\n",
              "    <tspan class=\"displacy-tag\" dy=\"2em\" fill=\"currentColor\" x=\"330\">VERB</tspan>\n",
              "</text>\n",
              "\n",
              "<text class=\"displacy-token\" fill=\"currentColor\" text-anchor=\"middle\" y=\"257.0\">\n",
              "    <tspan class=\"displacy-word\" fill=\"currentColor\" x=\"470\">insurance</tspan>\n",
              "    <tspan class=\"displacy-tag\" dy=\"2em\" fill=\"currentColor\" x=\"470\">NOUN</tspan>\n",
              "</text>\n",
              "\n",
              "<text class=\"displacy-token\" fill=\"currentColor\" text-anchor=\"middle\" y=\"257.0\">\n",
              "    <tspan class=\"displacy-word\" fill=\"currentColor\" x=\"610\">liability</tspan>\n",
              "    <tspan class=\"displacy-tag\" dy=\"2em\" fill=\"currentColor\" x=\"610\">NOUN</tspan>\n",
              "</text>\n",
              "\n",
              "<text class=\"displacy-token\" fill=\"currentColor\" text-anchor=\"middle\" y=\"257.0\">\n",
              "    <tspan class=\"displacy-word\" fill=\"currentColor\" x=\"750\">toward</tspan>\n",
              "    <tspan class=\"displacy-tag\" dy=\"2em\" fill=\"currentColor\" x=\"750\">ADP</tspan>\n",
              "</text>\n",
              "\n",
              "<text class=\"displacy-token\" fill=\"currentColor\" text-anchor=\"middle\" y=\"257.0\">\n",
              "    <tspan class=\"displacy-word\" fill=\"currentColor\" x=\"890\">manufacturers</tspan>\n",
              "    <tspan class=\"displacy-tag\" dy=\"2em\" fill=\"currentColor\" x=\"890\">NOUN</tspan>\n",
              "</text>\n",
              "\n",
              "<g class=\"displacy-arrow\">\n",
              "    <path class=\"displacy-arc\" id=\"arrow-ab7e71f8f1054f0c9281de82e49f9f85-0-0\" stroke-width=\"2px\" d=\"M70,212.0 C70,142.0 180.0,142.0 180.0,212.0\" fill=\"none\" stroke=\"currentColor\"/>\n",
              "    <text dy=\"1.25em\" style=\"font-size: 0.8em; letter-spacing: 1px\">\n",
              "        <textPath xlink:href=\"#arrow-ab7e71f8f1054f0c9281de82e49f9f85-0-0\" class=\"displacy-label\" startOffset=\"50%\" side=\"left\" fill=\"currentColor\" text-anchor=\"middle\">amod</textPath>\n",
              "    </text>\n",
              "    <path class=\"displacy-arrowhead\" d=\"M70,214.0 L62,202.0 78,202.0\" fill=\"currentColor\"/>\n",
              "</g>\n",
              "\n",
              "<g class=\"displacy-arrow\">\n",
              "    <path class=\"displacy-arc\" id=\"arrow-ab7e71f8f1054f0c9281de82e49f9f85-0-1\" stroke-width=\"2px\" d=\"M210,212.0 C210,142.0 320.0,142.0 320.0,212.0\" fill=\"none\" stroke=\"currentColor\"/>\n",
              "    <text dy=\"1.25em\" style=\"font-size: 0.8em; letter-spacing: 1px\">\n",
              "        <textPath xlink:href=\"#arrow-ab7e71f8f1054f0c9281de82e49f9f85-0-1\" class=\"displacy-label\" startOffset=\"50%\" side=\"left\" fill=\"currentColor\" text-anchor=\"middle\">nsubj</textPath>\n",
              "    </text>\n",
              "    <path class=\"displacy-arrowhead\" d=\"M210,214.0 L202,202.0 218,202.0\" fill=\"currentColor\"/>\n",
              "</g>\n",
              "\n",
              "<g class=\"displacy-arrow\">\n",
              "    <path class=\"displacy-arc\" id=\"arrow-ab7e71f8f1054f0c9281de82e49f9f85-0-2\" stroke-width=\"2px\" d=\"M490,212.0 C490,142.0 600.0,142.0 600.0,212.0\" fill=\"none\" stroke=\"currentColor\"/>\n",
              "    <text dy=\"1.25em\" style=\"font-size: 0.8em; letter-spacing: 1px\">\n",
              "        <textPath xlink:href=\"#arrow-ab7e71f8f1054f0c9281de82e49f9f85-0-2\" class=\"displacy-label\" startOffset=\"50%\" side=\"left\" fill=\"currentColor\" text-anchor=\"middle\">compound</textPath>\n",
              "    </text>\n",
              "    <path class=\"displacy-arrowhead\" d=\"M490,214.0 L482,202.0 498,202.0\" fill=\"currentColor\"/>\n",
              "</g>\n",
              "\n",
              "<g class=\"displacy-arrow\">\n",
              "    <path class=\"displacy-arc\" id=\"arrow-ab7e71f8f1054f0c9281de82e49f9f85-0-3\" stroke-width=\"2px\" d=\"M350,212.0 C350,72.0 605.0,72.0 605.0,212.0\" fill=\"none\" stroke=\"currentColor\"/>\n",
              "    <text dy=\"1.25em\" style=\"font-size: 0.8em; letter-spacing: 1px\">\n",
              "        <textPath xlink:href=\"#arrow-ab7e71f8f1054f0c9281de82e49f9f85-0-3\" class=\"displacy-label\" startOffset=\"50%\" side=\"left\" fill=\"currentColor\" text-anchor=\"middle\">dobj</textPath>\n",
              "    </text>\n",
              "    <path class=\"displacy-arrowhead\" d=\"M605.0,214.0 L613.0,202.0 597.0,202.0\" fill=\"currentColor\"/>\n",
              "</g>\n",
              "\n",
              "<g class=\"displacy-arrow\">\n",
              "    <path class=\"displacy-arc\" id=\"arrow-ab7e71f8f1054f0c9281de82e49f9f85-0-4\" stroke-width=\"2px\" d=\"M350,212.0 C350,2.0 750.0,2.0 750.0,212.0\" fill=\"none\" stroke=\"currentColor\"/>\n",
              "    <text dy=\"1.25em\" style=\"font-size: 0.8em; letter-spacing: 1px\">\n",
              "        <textPath xlink:href=\"#arrow-ab7e71f8f1054f0c9281de82e49f9f85-0-4\" class=\"displacy-label\" startOffset=\"50%\" side=\"left\" fill=\"currentColor\" text-anchor=\"middle\">prep</textPath>\n",
              "    </text>\n",
              "    <path class=\"displacy-arrowhead\" d=\"M750.0,214.0 L758.0,202.0 742.0,202.0\" fill=\"currentColor\"/>\n",
              "</g>\n",
              "\n",
              "<g class=\"displacy-arrow\">\n",
              "    <path class=\"displacy-arc\" id=\"arrow-ab7e71f8f1054f0c9281de82e49f9f85-0-5\" stroke-width=\"2px\" d=\"M770,212.0 C770,142.0 880.0,142.0 880.0,212.0\" fill=\"none\" stroke=\"currentColor\"/>\n",
              "    <text dy=\"1.25em\" style=\"font-size: 0.8em; letter-spacing: 1px\">\n",
              "        <textPath xlink:href=\"#arrow-ab7e71f8f1054f0c9281de82e49f9f85-0-5\" class=\"displacy-label\" startOffset=\"50%\" side=\"left\" fill=\"currentColor\" text-anchor=\"middle\">pobj</textPath>\n",
              "    </text>\n",
              "    <path class=\"displacy-arrowhead\" d=\"M880.0,214.0 L888.0,202.0 872.0,202.0\" fill=\"currentColor\"/>\n",
              "</g>\n",
              "</svg></span>"
            ]
          },
          "metadata": {}
        }
      ]
    },
    {
      "cell_type": "markdown",
      "source": [
        "Chunking\n"
      ],
      "metadata": {
        "id": "LE7x889GPcqs"
      }
    },
    {
      "cell_type": "code",
      "source": [
        "from nltk import pos_tag\n",
        "from nltk import RegexpParser\n",
        "corpus =\"This is an exciting time to be working in speech and language processing. Historically distinct fields(natural language processing, speech recognition, computational linguistics, computational psycholinguistics)have begun to merge.\" \n",
        "tokens = corpus.split()\n",
        "print(\"Original corpus :\\n\",corpus)\n",
        "print(\"\\nSplit Text :\\n\",tokens) \n",
        "tokens_tag = pos_tag(tokens) \n",
        "print(\"\\nPOS tagging :\\n\",tokens_tag)\n",
        "patterns= \"\"\"mychunk:{<NN.?>*<VBD.?>*<JJ.?>*<CC>?}\"\"\"\n",
        "chunker = RegexpParser(patterns)\n",
        "print(\"\\nAfter Regex :\\n\",chunker) \n",
        "output = chunker.parse(tokens_tag) \n",
        "print(\"\\nChunked Text \\n\",output)\n",
        "\n"
      ],
      "metadata": {
        "id": "8pcZ_bdPPey9",
        "colab": {
          "base_uri": "https://localhost:8080/"
        },
        "outputId": "99ce0010-9843-43b4-a824-09b0dcb0bb61"
      },
      "execution_count": 41,
      "outputs": [
        {
          "output_type": "stream",
          "name": "stdout",
          "text": [
            "Original corpus :\n",
            " This is an exciting time to be working in speech and language processing. Historically distinct fields(natural language processing, speech recognition, computational linguistics, computational psycholinguistics)have begun to merge.\n",
            "\n",
            "Split Text :\n",
            " ['This', 'is', 'an', 'exciting', 'time', 'to', 'be', 'working', 'in', 'speech', 'and', 'language', 'processing.', 'Historically', 'distinct', 'fields(natural', 'language', 'processing,', 'speech', 'recognition,', 'computational', 'linguistics,', 'computational', 'psycholinguistics)have', 'begun', 'to', 'merge.']\n",
            "\n",
            "POS tagging :\n",
            " [('This', 'DT'), ('is', 'VBZ'), ('an', 'DT'), ('exciting', 'JJ'), ('time', 'NN'), ('to', 'TO'), ('be', 'VB'), ('working', 'VBG'), ('in', 'IN'), ('speech', 'NN'), ('and', 'CC'), ('language', 'NN'), ('processing.', 'NN'), ('Historically', 'NNP'), ('distinct', 'JJ'), ('fields(natural', 'JJ'), ('language', 'NN'), ('processing,', 'NN'), ('speech', 'NN'), ('recognition,', 'VBP'), ('computational', 'JJ'), ('linguistics,', 'JJ'), ('computational', 'JJ'), ('psycholinguistics)have', 'NN'), ('begun', 'VBN'), ('to', 'TO'), ('merge.', 'VB')]\n",
            "\n",
            "After Regex :\n",
            " chunk.RegexpParser with 1 stages:\n",
            "RegexpChunkParser with 1 rules:\n",
            "       <ChunkRule: '<NN.?>*<VBD.?>*<JJ.?>*<CC>?'>\n",
            "\n",
            "Chunked Text \n",
            " (S\n",
            "  This/DT\n",
            "  is/VBZ\n",
            "  an/DT\n",
            "  (mychunk exciting/JJ)\n",
            "  (mychunk time/NN)\n",
            "  to/TO\n",
            "  be/VB\n",
            "  working/VBG\n",
            "  in/IN\n",
            "  (mychunk speech/NN and/CC)\n",
            "  (mychunk\n",
            "    language/NN\n",
            "    processing./NN\n",
            "    Historically/NNP\n",
            "    distinct/JJ\n",
            "    fields(natural/JJ)\n",
            "  (mychunk language/NN processing,/NN speech/NN)\n",
            "  recognition,/VBP\n",
            "  (mychunk computational/JJ linguistics,/JJ computational/JJ)\n",
            "  (mychunk psycholinguistics)have/NN)\n",
            "  begun/VBN\n",
            "  to/TO\n",
            "  merge./VB)\n"
          ]
        }
      ]
    },
    {
      "cell_type": "markdown",
      "source": [
        "N Gram"
      ],
      "metadata": {
        "id": "ExCdl1DqPxjA"
      }
    },
    {
      "cell_type": "code",
      "source": [
        "s = \"\"\"\n",
        "    Natural-language processing (NLP) is an area of\n",
        "    computer science and artificial intelligence\n",
        "    concerned with the interactions between computers\n",
        "    and human (natural) languages.\n",
        "\"\"\""
      ],
      "metadata": {
        "id": "vCzk3SIgP1IW"
      },
      "execution_count": 42,
      "outputs": []
    },
    {
      "cell_type": "code",
      "source": [
        "import re\n",
        "\n",
        "def generate_ngrams(s, n):\n",
        "    # Convert to lowercases\n",
        "    s = s.lower()\n",
        "    \n",
        "    # Replace all none alphanumeric characters with spaces\n",
        "    s = re.sub(r'[^a-zA-Z0-9\\s]', ' ', s)\n",
        "    \n",
        "    # Break sentence in the token, remove empty tokens\n",
        "    tokens = [token for token in s.split(\" \") if token != \"\"]\n",
        "    \n",
        "    # Use the zip function to help us generate n-grams\n",
        "    # Concatentate the tokens into ngrams and return\n",
        "    ngrams = zip(*[token[i:] for i in range(n)])\n",
        "    return [\" \".join(ngram) for ngram in ngrams]"
      ],
      "metadata": {
        "id": "KCrzqxuNRIpb"
      },
      "execution_count": 43,
      "outputs": []
    },
    {
      "cell_type": "code",
      "source": [
        "import re\n",
        "from nltk.util import ngrams\n",
        "\n",
        "s = s.lower()\n",
        "s = re.sub(r'[^a-zA-Z0-9\\s]', ' ', s)\n",
        "tokens = [token for token in s.split(\" \") if token != \"\"]\n",
        "output = list(ngrams(tokens, 5))\n",
        "print(output)"
      ],
      "metadata": {
        "id": "5Ec-s_prTzBW",
        "colab": {
          "base_uri": "https://localhost:8080/"
        },
        "outputId": "fe6cfa07-c133-4b02-be94-1ddbc208c666"
      },
      "execution_count": 44,
      "outputs": [
        {
          "output_type": "stream",
          "name": "stdout",
          "text": [
            "[('\\n', 'natural', 'language', 'processing', 'nlp'), ('natural', 'language', 'processing', 'nlp', 'is'), ('language', 'processing', 'nlp', 'is', 'an'), ('processing', 'nlp', 'is', 'an', 'area'), ('nlp', 'is', 'an', 'area', 'of\\n'), ('is', 'an', 'area', 'of\\n', 'computer'), ('an', 'area', 'of\\n', 'computer', 'science'), ('area', 'of\\n', 'computer', 'science', 'and'), ('of\\n', 'computer', 'science', 'and', 'artificial'), ('computer', 'science', 'and', 'artificial', 'intelligence\\n'), ('science', 'and', 'artificial', 'intelligence\\n', 'concerned'), ('and', 'artificial', 'intelligence\\n', 'concerned', 'with'), ('artificial', 'intelligence\\n', 'concerned', 'with', 'the'), ('intelligence\\n', 'concerned', 'with', 'the', 'interactions'), ('concerned', 'with', 'the', 'interactions', 'between'), ('with', 'the', 'interactions', 'between', 'computers\\n'), ('the', 'interactions', 'between', 'computers\\n', 'and'), ('interactions', 'between', 'computers\\n', 'and', 'human'), ('between', 'computers\\n', 'and', 'human', 'natural'), ('computers\\n', 'and', 'human', 'natural', 'languages'), ('and', 'human', 'natural', 'languages', '\\n')]\n"
          ]
        }
      ]
    }
  ],
  "metadata": {
    "colab": {
      "provenance": [],
      "include_colab_link": true
    },
    "kernelspec": {
      "display_name": "Python 3",
      "name": "python3"
    },
    "language_info": {
      "name": "python"
    },
    "gpuClass": "standard"
  },
  "nbformat": 4,
  "nbformat_minor": 0
}